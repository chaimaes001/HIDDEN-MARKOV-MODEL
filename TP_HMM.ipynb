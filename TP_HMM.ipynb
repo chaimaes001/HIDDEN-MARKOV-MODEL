{
 "cells": [
  {
   "cell_type": "code",
   "execution_count": null,
   "id": "d23acf02",
   "metadata": {},
   "outputs": [],
   "source": [
    "# -*- coding: utf-8 -*-\n",
    "\"\"\"\n",
    "Created on Sun Oct 31 14:07:01 2021\n",
    "@author: chaimae\n",
    "\"\"\"\n",
    "from hmmlearn import hmm\n",
    "import matplotlib.pyplot as plt\n",
    "import time\n",
    "import numpy as np\n",
    "import cv2\n",
    "import csv\n",
    "data=[]\n",
    "vect=[]\n",
    "mat=[[]]\n",
    "vec=[]\n",
    "def number_loading(num):    \n",
    "    for i in range(1,61): \n",
    "        image=plt.imread(\"training _data/\"+str(num)+\"/img (\"+str(i)+\").jpg\")\n",
    "        (thresh, im_bw) = cv2.threshold(image,128,1,cv2.THRESH_BINARY )\n",
    "        img=np.array(im_bw) \n",
    "        img1=img.flatten()                \n",
    "        data.append(img1)  \n",
    "    return data\n",
    "# matrice des probabilites de debut\n",
    "startprob = np.array([1.0, 0.0, 0.0, 0.0, 0.0]) \n",
    "# matrice de probabilites de transition\n",
    "transmat = np.array([[0.5, 0.5, 0.0, 0.0, 0.0],\n",
    "                     [0.0, 0.5, 0.5, 0.0, 0.0],\n",
    "                     [0.0, 0.0, 0.5, 0.5, 0.0],\n",
    "                     [0.0, 0.0, 0.0, 0.5, 0.5],\n",
    "                     [0.0, 0.0, 0.0, 0.0, 1.0]])\n",
    "# , params='tmc',covariance_type='diag',algorithm='viterbi',init_params='tmc',verbose=True\n",
    "models = []\n",
    "vect=[]\n",
    "scores=[]\n",
    "mod=[]\n",
    "for i in range(0,10):\n",
    "    # print(' here first i  = ',i)\n",
    "    model=hmm.GaussianHMM(n_components=5,covariance_type='diag',algorithm='viterbi',init_params='tmc')\n",
    "    model.startprob_=startprob\n",
    "    model.transmat_=transmat\n",
    "    model.n_features=784  \n",
    "    models.append(model)\n",
    "    \n",
    "for k in range(0,10):\n",
    "    models[k].fit(number_loading(k))\n",
    "    #print (\"here k = \", k)\n",
    "    #print(models[k].transmat_)"
   ]
  },
  {
   "cell_type": "code",
   "execution_count": null,
   "id": "b79652ff",
   "metadata": {},
   "outputs": [],
   "source": [
    "#test\n",
    "image=plt.imread(\"training _data/3/img (1).jpg\")\n",
    "(thresh, im_bw) = cv2.threshold(image,128,1,cv2.THRESH_BINARY)\n",
    "im=np.array(im_bw)              \n",
    "img=[]\n",
    "im=im.flatten()  \n",
    "img.append(im)\n",
    "\n",
    "for j in range(0,10):\n",
    "    scores.append( models[j].score(img,1) )\n",
    "    print('log prob with model ['+str(j)+']  : ',scores[j])  \n",
    "    "
   ]
  }
 ],
 "metadata": {
  "kernelspec": {
   "display_name": "Python 3",
   "language": "python",
   "name": "python3"
  },
  "language_info": {
   "codemirror_mode": {
    "name": "ipython",
    "version": 3
   },
   "file_extension": ".py",
   "mimetype": "text/x-python",
   "name": "python",
   "nbconvert_exporter": "python",
   "pygments_lexer": "ipython3",
   "version": "3.8.8"
  }
 },
 "nbformat": 4,
 "nbformat_minor": 5
}
